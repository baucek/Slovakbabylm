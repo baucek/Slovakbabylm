{
 "cells": [
  {
   "cell_type": "code",
   "execution_count": null,
   "metadata": {},
   "outputs": [],
   "source": [
    "import os \n",
    "import re\n",
    "import json \n",
    "\n",
    "folder_path=\"C:/Users/Dell/Desktop/Diplomovka/Data/children_speech/Final_created_conv\"\n",
    "list_of_conv=[]\n",
    "for filename in os.listdir(folder_path):\n",
    "        file_path = os.path.join(folder_path, filename)\n",
    "        with open(file_path, 'r',encoding='utf-8') as file:\n",
    "            content = file.read()\n",
    "            cleaned_text = re.sub(r'\\n{3,}', '\\n\\n', content)\n",
    "            split_text = re.split(r'\\d+\\.\\s', cleaned_text)\n",
    "            for text in split_text:\n",
    "                source={}\n",
    "                if text.strip() == '':\n",
    "                    continue\n",
    "                lines=text.split('\\n')\n",
    "                conv='\\n'.join(lines[1:])\n",
    "                conv=re.sub(r'D:.*?\\n', '', conv)\n",
    "                conv=re.sub(r'[MOSB]: ', '',conv)\n",
    "                conv=re.sub(r'\\n{2,}', '\\n',conv)\n",
    "                source['url']=lines[0]\n",
    "                source['page']=conv\n",
    "                list_of_conv.append(source)\n",
    "with open('C:/Users/Dell/Desktop/Diplomovka/Data/children_speech/final_conv.json', 'w',encoding='utf-8') as json_file:\n",
    "    json.dump(list_of_conv, json_file, indent=4, ensure_ascii=False)"
   ]
  },
  {
   "cell_type": "code",
   "execution_count": 2,
   "metadata": {},
   "outputs": [],
   "source": [
    "import re \n",
    "import time \n",
    "from openai import OpenAI\n"
   ]
  },
  {
   "cell_type": "code",
   "execution_count": null,
   "metadata": {},
   "outputs": [],
   "source": [
    "client_openai = OpenAI(\n",
    "    api_key=''\n",
    ")"
   ]
  },
  {
   "cell_type": "code",
   "execution_count": null,
   "metadata": {},
   "outputs": [],
   "source": [
    "family_mem=['matkou','bratom','sestrou','otcom']\n",
    "age='1'\n",
    "age_word='jednoročným'\n",
    "count_words='2'\n",
    "\n",
    "for i in range(0,10):\n",
    "    time.sleep(10)\n",
    "    for family in family_mem:\n",
    "        response_name = client_openai.chat.completions.create(\n",
    "            model=\"gpt-4o-mini\",\n",
    "            messages=[\n",
    "                {\"role\": \"user\", \"content\": \n",
    "                 f\"\"\"Vytvor 70 situácii medzi {family} a dieťaťom, ktoré sa môžu vyskytnúť medzi {family} a {age_word} dieťaťom. Výsledok budú len dané situácie a nebudú sa opakovať.\\n Príklad: Prebaľovanie\\n\n",
    "                 Dieťa nesmie vykonávať činnosť, ktorú je nemožné vykonať v danom roku života ({age} roky). \n",
    "                \"\"\"\n",
    "                },\n",
    "                {\"role\": \"assistant\", \"content\": \"Si schopný posúdiť lingvistické a motorické prejavy dieťaťa v rôznom veku.\"}\n",
    "            ],\n",
    "            max_tokens=5000,\n",
    "            temperature=1\n",
    "        )\n",
    "        list_name=response_name.choices[0].message.content.split('\\n')\n",
    "        print(list_name)\n",
    "        for topic in list_name:\n",
    "            if not topic:\n",
    "                continue \n",
    "            re.sub(r'\\s+', ' ', topic) \n",
    "\n",
    "            time.sleep(10)\n",
    "            response_rozp = client_openai.chat.completions.create(\n",
    "                model=\"gpt-4o-mini\",\n",
    "                messages=[\n",
    "                    {\"role\": \"user\", \"content\": F\"\"\"Daj mi konverzáciu medzi {age_word} dieťaťom a {family} na tému:{topic}. Tvoj výsledok musí obsahovať len vytvorený dialóg, kde {family} bude označená ako {family[0].upper()}: a dieťa ako D:\n",
    "                \\n\\n\\n\n",
    "                Správna komunikácia zo strany {family}:\\n\n",
    "                Komentovanie: Je dôležité opisovať, to čo sa deje v okolí.\\n\n",
    "                Opakovanie: Zdôrazňovať a opakovať veci, ktorým dieťa nerozumie a poskytovanie možností na neustále opakovanie nových slov alebo viet\\n\n",
    "                Výslovnosť: Použi gramaticky správne slová.\\n\n",
    "                !!!!! Prispôsobivosť: {family} musi prispôsobiť reč aktuálnym záujmom a potrebám dieťaťa: vety sú krátke!!!!!\\n\n",
    "                Priemerný pošet slov vo vete: {count_words}\\n\n",
    "                Nezačínaj komunkáciu pozdravom\"\"\"},\n",
    "                    {\"role\": \"assistant\", \"content\": \"Si schopný posúdiť lingvistické a motorické prejavy dieťaťa v rôznom veku.\"}\n",
    "                ],\n",
    "                max_tokens=15000,\n",
    "                temperature=1\n",
    "            )\n",
    "            open_ai_conv=response_rozp.choices[0].message.content\n",
    "            print(open_ai_conv)\n",
    "            with open(f\"C:/Users/Mamina/Desktop/Data/children_speech/{age}_years_old_op_new_prompt_last_2.txt\", \"a\",encoding='utf-8') as file:\n",
    "                file.write('\\n\\n\\n'+topic+'\\n\\n'+open_ai_conv)"
   ]
  }
 ],
 "metadata": {
  "kernelspec": {
   "display_name": "base",
   "language": "python",
   "name": "python3"
  },
  "language_info": {
   "codemirror_mode": {
    "name": "ipython",
    "version": 3
   },
   "file_extension": ".py",
   "mimetype": "text/x-python",
   "name": "python",
   "nbconvert_exporter": "python",
   "pygments_lexer": "ipython3",
   "version": "3.11.7"
  }
 },
 "nbformat": 4,
 "nbformat_minor": 2
}
