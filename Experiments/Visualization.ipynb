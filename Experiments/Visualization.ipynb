{
 "cells": [
  {
   "cell_type": "code",
   "execution_count": null,
   "id": "d62bbfd0",
   "metadata": {},
   "outputs": [],
   "source": [
    "import json\n",
    "from collections import Counter\n",
    "import regex as re\n",
    "import os\n",
    "import pandas as pd\n",
    "from tokenizers import Tokenizer\n",
    "import pyphen\n",
    "import matplotlib.pyplot as plt\n",
    "import pandas as pd"
   ]
  },
  {
   "cell_type": "markdown",
   "id": "2dd45909",
   "metadata": {},
   "source": [
    "# Analyze Masked words"
   ]
  },
  {
   "cell_type": "code",
   "execution_count": null,
   "id": "5d4173a0",
   "metadata": {},
   "outputs": [],
   "source": [
    "file_to_train='strict_model'\n",
    "file_to_save='7_full_data__sum_freq_gramma__max_freq'\n",
    "path='./SlovakBabyLM/Curricullum_learning/'"
   ]
  },
  {
   "cell_type": "code",
   "execution_count": null,
   "id": "aa2a915e",
   "metadata": {},
   "outputs": [],
   "source": [
    "with open(f'{path}{file_to_train}_results/{file_to_save}/masked_words.txt', \"r\", encoding=\"utf8\") as f:\n",
    "    data = f.readlines()"
   ]
  },
  {
   "cell_type": "code",
   "execution_count": 20,
   "id": "04e32cd5",
   "metadata": {},
   "outputs": [],
   "source": [
    "word_counter = Counter()\n",
    "\n",
    "\n",
    "for word in data: \n",
    "    word=word.replace(\"\\n\",\"\")\n",
    "    if word:\n",
    "        word_counter[word] += 1\n",
    "top_10 = word_counter.most_common(10)"
   ]
  },
  {
   "cell_type": "code",
   "execution_count": 21,
   "id": "210a33a5",
   "metadata": {},
   "outputs": [
    {
     "data": {
      "text/plain": [
       "17266"
      ]
     },
     "execution_count": 21,
     "metadata": {},
     "output_type": "execute_result"
    }
   ],
   "source": [
    "len(word_counter)"
   ]
  },
  {
   "cell_type": "code",
   "execution_count": 23,
   "id": "df7562d5",
   "metadata": {},
   "outputs": [
    {
     "data": {
      "text/html": [
       "<div>\n",
       "<style scoped>\n",
       "    .dataframe tbody tr th:only-of-type {\n",
       "        vertical-align: middle;\n",
       "    }\n",
       "\n",
       "    .dataframe tbody tr th {\n",
       "        vertical-align: top;\n",
       "    }\n",
       "\n",
       "    .dataframe thead th {\n",
       "        text-align: right;\n",
       "    }\n",
       "</style>\n",
       "<table border=\"1\" class=\"dataframe\">\n",
       "  <thead>\n",
       "    <tr style=\"text-align: right;\">\n",
       "      <th></th>\n",
       "      <th>Word</th>\n",
       "      <th>Frequency</th>\n",
       "    </tr>\n",
       "  </thead>\n",
       "  <tbody>\n",
       "    <tr>\n",
       "      <th>0</th>\n",
       "      <td>sa</td>\n",
       "      <td>258273</td>\n",
       "    </tr>\n",
       "    <tr>\n",
       "      <th>1</th>\n",
       "      <td>a</td>\n",
       "      <td>207047</td>\n",
       "    </tr>\n",
       "    <tr>\n",
       "      <th>2</th>\n",
       "      <td>to</td>\n",
       "      <td>159399</td>\n",
       "    </tr>\n",
       "    <tr>\n",
       "      <th>3</th>\n",
       "      <td>je</td>\n",
       "      <td>131987</td>\n",
       "    </tr>\n",
       "    <tr>\n",
       "      <th>4</th>\n",
       "      <td>na</td>\n",
       "      <td>114932</td>\n",
       "    </tr>\n",
       "    <tr>\n",
       "      <th>5</th>\n",
       "      <td>v</td>\n",
       "      <td>104538</td>\n",
       "    </tr>\n",
       "    <tr>\n",
       "      <th>6</th>\n",
       "      <td>si</td>\n",
       "      <td>96317</td>\n",
       "    </tr>\n",
       "    <tr>\n",
       "      <th>7</th>\n",
       "      <td>som</td>\n",
       "      <td>68440</td>\n",
       "    </tr>\n",
       "    <tr>\n",
       "      <th>8</th>\n",
       "      <td>že</td>\n",
       "      <td>48899</td>\n",
       "    </tr>\n",
       "    <tr>\n",
       "      <th>9</th>\n",
       "      <td>s</td>\n",
       "      <td>38767</td>\n",
       "    </tr>\n",
       "  </tbody>\n",
       "</table>\n",
       "</div>"
      ],
      "text/plain": [
       "  Word  Frequency\n",
       "0   sa     258273\n",
       "1    a     207047\n",
       "2   to     159399\n",
       "3   je     131987\n",
       "4   na     114932\n",
       "5    v     104538\n",
       "6   si      96317\n",
       "7  som      68440\n",
       "8   že      48899\n",
       "9    s      38767"
      ]
     },
     "execution_count": 23,
     "metadata": {},
     "output_type": "execute_result"
    }
   ],
   "source": [
    "df_top_10_max = pd.DataFrame(top_10, columns=['Word', 'Frequency'])\n",
    "df_top_10_max"
   ]
  },
  {
   "cell_type": "code",
   "execution_count": 22,
   "id": "70da399d",
   "metadata": {},
   "outputs": [
    {
     "data": {
      "text/html": [
       "<div>\n",
       "<style scoped>\n",
       "    .dataframe tbody tr th:only-of-type {\n",
       "        vertical-align: middle;\n",
       "    }\n",
       "\n",
       "    .dataframe tbody tr th {\n",
       "        vertical-align: top;\n",
       "    }\n",
       "\n",
       "    .dataframe thead th {\n",
       "        text-align: right;\n",
       "    }\n",
       "</style>\n",
       "<table border=\"1\" class=\"dataframe\">\n",
       "  <thead>\n",
       "    <tr style=\"text-align: right;\">\n",
       "      <th></th>\n",
       "      <th>Word</th>\n",
       "      <th>Frequency</th>\n",
       "    </tr>\n",
       "  </thead>\n",
       "  <tbody>\n",
       "    <tr>\n",
       "      <th>0</th>\n",
       "      <td>ľúto</td>\n",
       "      <td>142</td>\n",
       "    </tr>\n",
       "    <tr>\n",
       "      <th>1</th>\n",
       "      <td>istý</td>\n",
       "      <td>139</td>\n",
       "    </tr>\n",
       "    <tr>\n",
       "      <th>2</th>\n",
       "      <td>rozhodovaní</td>\n",
       "      <td>130</td>\n",
       "    </tr>\n",
       "    <tr>\n",
       "      <th>3</th>\n",
       "      <td>myslel</td>\n",
       "      <td>128</td>\n",
       "    </tr>\n",
       "    <tr>\n",
       "      <th>4</th>\n",
       "      <td>myslela</td>\n",
       "      <td>121</td>\n",
       "    </tr>\n",
       "    <tr>\n",
       "      <th>5</th>\n",
       "      <td>nepovedal</td>\n",
       "      <td>121</td>\n",
       "    </tr>\n",
       "    <tr>\n",
       "      <th>6</th>\n",
       "      <td>vedel</td>\n",
       "      <td>120</td>\n",
       "    </tr>\n",
       "    <tr>\n",
       "      <th>7</th>\n",
       "      <td>vedela</td>\n",
       "      <td>119</td>\n",
       "    </tr>\n",
       "    <tr>\n",
       "      <th>8</th>\n",
       "      <td>nepovedala</td>\n",
       "      <td>118</td>\n",
       "    </tr>\n",
       "    <tr>\n",
       "      <th>9</th>\n",
       "      <td>istá</td>\n",
       "      <td>114</td>\n",
       "    </tr>\n",
       "  </tbody>\n",
       "</table>\n",
       "</div>"
      ],
      "text/plain": [
       "          Word  Frequency\n",
       "0         ľúto        142\n",
       "1         istý        139\n",
       "2  rozhodovaní        130\n",
       "3       myslel        128\n",
       "4      myslela        121\n",
       "5    nepovedal        121\n",
       "6        vedel        120\n",
       "7       vedela        119\n",
       "8   nepovedala        118\n",
       "9         istá        114"
      ]
     },
     "execution_count": 22,
     "metadata": {},
     "output_type": "execute_result"
    }
   ],
   "source": [
    "df_top_10_min = pd.DataFrame(top_10, columns=['Word', 'Frequency'])\n",
    "df_top_10_min"
   ]
  },
  {
   "cell_type": "markdown",
   "id": "ce7173de",
   "metadata": {},
   "source": [
    "# how many masks are in text "
   ]
  },
  {
   "cell_type": "code",
   "execution_count": null,
   "id": "5735fffa",
   "metadata": {},
   "outputs": [],
   "source": [
    "file_to_train='strict_model'\n",
    "file_to_save='6_full_data__sum_freq_gramma__min_freq'\n",
    "\n",
    "with open(f'{path}{file_to_train}_results/{file_to_save}/final_masked_text.txt', \"r\", encoding=\"utf8\") as f:\n",
    "    data = f.read()\n"
   ]
  },
  {
   "cell_type": "code",
   "execution_count": 4,
   "id": "9a6d1bc2",
   "metadata": {},
   "outputs": [
    {
     "data": {
      "text/plain": [
       "2579958"
      ]
     },
     "execution_count": 4,
     "metadata": {},
     "output_type": "execute_result"
    }
   ],
   "source": [
    "data.count('[MASK]')"
   ]
  },
  {
   "cell_type": "markdown",
   "id": "ee1d171d",
   "metadata": {},
   "source": [
    "Open and analyze results"
   ]
  },
  {
   "cell_type": "code",
   "execution_count": null,
   "id": "f2cea2f7",
   "metadata": {},
   "outputs": [],
   "source": [
    "import json\n",
    "with open(f'{path}results_evaluation/strict_model/output_sentiment.json', 'r') as file:\n",
    "    data = json.load(file)"
   ]
  },
  {
   "cell_type": "code",
   "execution_count": 6,
   "id": "7cc65a37",
   "metadata": {},
   "outputs": [],
   "source": [
    "from collections import defaultdict\n",
    "import statistics"
   ]
  },
  {
   "cell_type": "code",
   "execution_count": 7,
   "id": "ce90b57b",
   "metadata": {},
   "outputs": [
    {
     "ename": "AttributeError",
     "evalue": "'str' object has no attribute 'items'",
     "output_type": "error",
     "traceback": [
      "\u001b[0;31m---------------------------------------------------------------------------\u001b[0m",
      "\u001b[0;31mAttributeError\u001b[0m                            Traceback (most recent call last)",
      "Cell \u001b[0;32mIn[7], line 4\u001b[0m\n\u001b[1;32m      1\u001b[0m grouped \u001b[38;5;241m=\u001b[39m defaultdict(\u001b[38;5;28mlist\u001b[39m)\n\u001b[1;32m      3\u001b[0m \u001b[38;5;28;01mfor\u001b[39;00m item \u001b[38;5;129;01min\u001b[39;00m data:\n\u001b[0;32m----> 4\u001b[0m     \u001b[38;5;28;01mfor\u001b[39;00m full_key, metrics \u001b[38;5;129;01min\u001b[39;00m \u001b[43mitem\u001b[49m\u001b[38;5;241;43m.\u001b[39;49m\u001b[43mitems\u001b[49m():\n\u001b[1;32m      5\u001b[0m         grouped[full_key]\u001b[38;5;241m.\u001b[39mappend(metrics)\n",
      "\u001b[0;31mAttributeError\u001b[0m: 'str' object has no attribute 'items'"
     ]
    }
   ],
   "source": [
    "grouped = defaultdict(list)\n",
    "\n",
    "for item in data:\n",
    "    for full_key, metrics in item.items():\n",
    "        grouped[full_key].append(metrics)"
   ]
  },
  {
   "cell_type": "code",
   "execution_count": 5,
   "id": "8e577df8",
   "metadata": {},
   "outputs": [],
   "source": [
    "rows = []\n",
    "for model, entries in grouped.items():\n",
    "    exact_matches = [e[\"exact_match\"] for e in entries]\n",
    "    f1 = [e[\"f1\"] for e in entries]\n",
    "    \n",
    "    row = {\n",
    "        \"model\": model,\n",
    "        \"exact_match_avg\": statistics.mean(exact_matches),\n",
    "        \"exact_match_std\": statistics.stdev(exact_matches) if len(exact_matches) > 1 else 0.0,\n",
    "        \"f1_avg\": statistics.mean(f1),\n",
    "        \"f1_std\": statistics.stdev(f1) if len(f1) > 1 else 0.0,\n",
    "    }\n",
    "    rows.append(row)\n",
    "\n",
    "df = pd.DataFrame(rows)"
   ]
  },
  {
   "cell_type": "code",
   "execution_count": 6,
   "id": "7e291b65",
   "metadata": {},
   "outputs": [
    {
     "data": {
      "text/html": [
       "<div>\n",
       "<style scoped>\n",
       "    .dataframe tbody tr th:only-of-type {\n",
       "        vertical-align: middle;\n",
       "    }\n",
       "\n",
       "    .dataframe tbody tr th {\n",
       "        vertical-align: top;\n",
       "    }\n",
       "\n",
       "    .dataframe thead th {\n",
       "        text-align: right;\n",
       "    }\n",
       "</style>\n",
       "<table border=\"1\" class=\"dataframe\">\n",
       "  <thead>\n",
       "    <tr style=\"text-align: right;\">\n",
       "      <th></th>\n",
       "      <th>model</th>\n",
       "      <th>exact_match_avg</th>\n",
       "      <th>exact_match_std</th>\n",
       "      <th>f1_avg</th>\n",
       "      <th>f1_std</th>\n",
       "    </tr>\n",
       "  </thead>\n",
       "  <tbody>\n",
       "    <tr>\n",
       "      <th>0</th>\n",
       "      <td>randomly_selected_subs</td>\n",
       "      <td>1.613623</td>\n",
       "      <td>0.460422</td>\n",
       "      <td>7.055418</td>\n",
       "      <td>0.902425</td>\n",
       "    </tr>\n",
       "    <tr>\n",
       "      <th>1</th>\n",
       "      <td>randomly_selected_wiki_full</td>\n",
       "      <td>1.072516</td>\n",
       "      <td>0.175445</td>\n",
       "      <td>6.126928</td>\n",
       "      <td>0.698651</td>\n",
       "    </tr>\n",
       "  </tbody>\n",
       "</table>\n",
       "</div>"
      ],
      "text/plain": [
       "                         model  exact_match_avg  exact_match_std    f1_avg  \\\n",
       "0       randomly_selected_subs         1.613623         0.460422  7.055418   \n",
       "1  randomly_selected_wiki_full         1.072516         0.175445  6.126928   \n",
       "\n",
       "     f1_std  \n",
       "0  0.902425  \n",
       "1  0.698651  "
      ]
     },
     "execution_count": 6,
     "metadata": {},
     "output_type": "execute_result"
    }
   ],
   "source": [
    "df"
   ]
  },
  {
   "cell_type": "code",
   "execution_count": null,
   "id": "9f7bd81d",
   "metadata": {},
   "outputs": [],
   "source": [
    "with open(f'{path}results_evaluation/strict_model_ordered_data/output_sentiment.json', 'r') as file:\n",
    "    data_2 = json.load(file)"
   ]
  },
  {
   "cell_type": "code",
   "execution_count": 17,
   "id": "c25f1147",
   "metadata": {},
   "outputs": [],
   "source": [
    "grouped_data_2 = {}\n",
    "\n",
    "for full_key, records in data_2.items():\n",
    "    grouped_data_2.setdefault(full_key, []).extend(records)\n"
   ]
  },
  {
   "cell_type": "code",
   "execution_count": 18,
   "id": "f3882075",
   "metadata": {},
   "outputs": [],
   "source": [
    "rows = []\n",
    "for main_key, records in grouped_data_2.items():\n",
    "    row = {\n",
    "        \"main_key\": main_key,\n",
    "        \"eval_loss_avg\": statistics.mean([r[\"eval_loss\"] for r in records]),\n",
    "        \"eval_loss_std\": statistics.stdev([r[\"eval_loss\"] for r in records]) if len(records) > 1 else 0.0,\n",
    "        \"eval_accuracy_avg\": statistics.mean([r[\"eval_accuracy\"] for r in records]),\n",
    "        \"eval_accuracy_std\": statistics.stdev([r[\"eval_accuracy\"] for r in records]) if len(records) > 1 else 0.0,\n",
    "        \"eval_precision_avg\": statistics.mean([r[\"eval_precision\"] for r in records]),\n",
    "        \"eval_precision_std\": statistics.stdev([r[\"eval_precision\"] for r in records]) if len(records) > 1 else 0.0,\n",
    "        \"eval_recall_avg\": statistics.mean([r[\"eval_recall\"] for r in records]),\n",
    "        \"eval_recall_std\": statistics.stdev([r[\"eval_recall\"] for r in records]) if len(records) > 1 else 0.0,\n",
    "        \"eval_f1_avg\": statistics.mean([r[\"eval_f1\"] for r in records]),\n",
    "        \"eval_f1_std\": statistics.stdev([r[\"eval_f1\"] for r in records]) if len(records) > 1 else 0.0,\n",
    "    }\n",
    "    rows.append(row)\n",
    "\n",
    "df = pd.DataFrame(rows)"
   ]
  },
  {
   "cell_type": "code",
   "execution_count": 15,
   "id": "79859eae",
   "metadata": {},
   "outputs": [
    {
     "data": {
      "text/html": [
       "<div>\n",
       "<style scoped>\n",
       "    .dataframe tbody tr th:only-of-type {\n",
       "        vertical-align: middle;\n",
       "    }\n",
       "\n",
       "    .dataframe tbody tr th {\n",
       "        vertical-align: top;\n",
       "    }\n",
       "\n",
       "    .dataframe thead th {\n",
       "        text-align: right;\n",
       "    }\n",
       "</style>\n",
       "<table border=\"1\" class=\"dataframe\">\n",
       "  <thead>\n",
       "    <tr style=\"text-align: right;\">\n",
       "      <th></th>\n",
       "      <th>main_key</th>\n",
       "      <th>eval_loss_avg</th>\n",
       "      <th>eval_loss_std</th>\n",
       "      <th>eval_accuracy_avg</th>\n",
       "      <th>eval_accuracy_std</th>\n",
       "      <th>eval_precision_avg</th>\n",
       "      <th>eval_precision_std</th>\n",
       "      <th>eval_recall_avg</th>\n",
       "      <th>eval_recall_std</th>\n",
       "      <th>eval_f1_avg</th>\n",
       "      <th>eval_f1_std</th>\n",
       "    </tr>\n",
       "  </thead>\n",
       "  <tbody>\n",
       "    <tr>\n",
       "      <th>0</th>\n",
       "      <td>1_full_data__without_ord__without_mask</td>\n",
       "      <td>0.321154</td>\n",
       "      <td>0.100983</td>\n",
       "      <td>0.903178</td>\n",
       "      <td>0.026126</td>\n",
       "      <td>0.854549</td>\n",
       "      <td>0.081278</td>\n",
       "      <td>0.903178</td>\n",
       "      <td>0.026126</td>\n",
       "      <td>0.877263</td>\n",
       "      <td>0.055262</td>\n",
       "    </tr>\n",
       "  </tbody>\n",
       "</table>\n",
       "</div>"
      ],
      "text/plain": [
       "                                 main_key  eval_loss_avg  eval_loss_std  \\\n",
       "0  1_full_data__without_ord__without_mask       0.321154       0.100983   \n",
       "\n",
       "   eval_accuracy_avg  eval_accuracy_std  eval_precision_avg  \\\n",
       "0           0.903178           0.026126            0.854549   \n",
       "\n",
       "   eval_precision_std  eval_recall_avg  eval_recall_std  eval_f1_avg  \\\n",
       "0            0.081278         0.903178         0.026126     0.877263   \n",
       "\n",
       "   eval_f1_std  \n",
       "0     0.055262  "
      ]
     },
     "execution_count": 15,
     "metadata": {},
     "output_type": "execute_result"
    }
   ],
   "source": [
    "df"
   ]
  },
  {
   "cell_type": "code",
   "execution_count": 19,
   "id": "67617ecc",
   "metadata": {},
   "outputs": [
    {
     "data": {
      "text/html": [
       "<div>\n",
       "<style scoped>\n",
       "    .dataframe tbody tr th:only-of-type {\n",
       "        vertical-align: middle;\n",
       "    }\n",
       "\n",
       "    .dataframe tbody tr th {\n",
       "        vertical-align: top;\n",
       "    }\n",
       "\n",
       "    .dataframe thead th {\n",
       "        text-align: right;\n",
       "    }\n",
       "</style>\n",
       "<table border=\"1\" class=\"dataframe\">\n",
       "  <thead>\n",
       "    <tr style=\"text-align: right;\">\n",
       "      <th></th>\n",
       "      <th>main_key</th>\n",
       "      <th>eval_loss_avg</th>\n",
       "      <th>eval_loss_std</th>\n",
       "      <th>eval_accuracy_avg</th>\n",
       "      <th>eval_accuracy_std</th>\n",
       "      <th>eval_precision_avg</th>\n",
       "      <th>eval_precision_std</th>\n",
       "      <th>eval_recall_avg</th>\n",
       "      <th>eval_recall_std</th>\n",
       "      <th>eval_f1_avg</th>\n",
       "      <th>eval_f1_std</th>\n",
       "    </tr>\n",
       "  </thead>\n",
       "  <tbody>\n",
       "    <tr>\n",
       "      <th>0</th>\n",
       "      <td>2_files_data__sum_freq_gramma__without_mask</td>\n",
       "      <td>0.334457</td>\n",
       "      <td>0.092024</td>\n",
       "      <td>0.897206</td>\n",
       "      <td>0.021360</td>\n",
       "      <td>0.846846</td>\n",
       "      <td>0.074387</td>\n",
       "      <td>0.897206</td>\n",
       "      <td>0.021360</td>\n",
       "      <td>0.870180</td>\n",
       "      <td>0.049077</td>\n",
       "    </tr>\n",
       "    <tr>\n",
       "      <th>1</th>\n",
       "      <td>3_full_data__sum_freq_gramma__without_mask</td>\n",
       "      <td>0.335180</td>\n",
       "      <td>0.100665</td>\n",
       "      <td>0.895713</td>\n",
       "      <td>0.024126</td>\n",
       "      <td>0.834823</td>\n",
       "      <td>0.078342</td>\n",
       "      <td>0.895713</td>\n",
       "      <td>0.024126</td>\n",
       "      <td>0.863243</td>\n",
       "      <td>0.052623</td>\n",
       "    </tr>\n",
       "    <tr>\n",
       "      <th>2</th>\n",
       "      <td>1_full_data__without_ord__without_mask</td>\n",
       "      <td>0.326032</td>\n",
       "      <td>0.100120</td>\n",
       "      <td>0.900512</td>\n",
       "      <td>0.024250</td>\n",
       "      <td>0.850499</td>\n",
       "      <td>0.077584</td>\n",
       "      <td>0.900512</td>\n",
       "      <td>0.024250</td>\n",
       "      <td>0.873586</td>\n",
       "      <td>0.051998</td>\n",
       "    </tr>\n",
       "  </tbody>\n",
       "</table>\n",
       "</div>"
      ],
      "text/plain": [
       "                                      main_key  eval_loss_avg  eval_loss_std  \\\n",
       "0  2_files_data__sum_freq_gramma__without_mask       0.334457       0.092024   \n",
       "1   3_full_data__sum_freq_gramma__without_mask       0.335180       0.100665   \n",
       "2       1_full_data__without_ord__without_mask       0.326032       0.100120   \n",
       "\n",
       "   eval_accuracy_avg  eval_accuracy_std  eval_precision_avg  \\\n",
       "0           0.897206           0.021360            0.846846   \n",
       "1           0.895713           0.024126            0.834823   \n",
       "2           0.900512           0.024250            0.850499   \n",
       "\n",
       "   eval_precision_std  eval_recall_avg  eval_recall_std  eval_f1_avg  \\\n",
       "0            0.074387         0.897206         0.021360     0.870180   \n",
       "1            0.078342         0.895713         0.024126     0.863243   \n",
       "2            0.077584         0.900512         0.024250     0.873586   \n",
       "\n",
       "   eval_f1_std  \n",
       "0     0.049077  \n",
       "1     0.052623  \n",
       "2     0.051998  "
      ]
     },
     "execution_count": 19,
     "metadata": {},
     "output_type": "execute_result"
    }
   ],
   "source": [
    "df"
   ]
  },
  {
   "cell_type": "code",
   "execution_count": null,
   "id": "aee1fb1b",
   "metadata": {},
   "outputs": [],
   "source": [
    "with open(f'{path}results_evaluation/strict_model/output_evaluation.json', 'r') as file:\n",
    "    data_2 = json.load(file)"
   ]
  },
  {
   "cell_type": "code",
   "execution_count": 8,
   "id": "289ef9e1",
   "metadata": {},
   "outputs": [],
   "source": [
    "rows = {}\n",
    "for config, entries in data_2.items():\n",
    "    row = {}\n",
    "    for entry in entries:\n",
    "        row[entry['dataset']] = entry['eval_loss']\n",
    "    rows[config] = row\n",
    "\n",
    "df = pd.DataFrame.from_dict(rows, orient='index')\n"
   ]
  },
  {
   "cell_type": "code",
   "execution_count": 9,
   "id": "8a591f34",
   "metadata": {},
   "outputs": [
    {
     "data": {
      "text/html": [
       "<div>\n",
       "<style scoped>\n",
       "    .dataframe tbody tr th:only-of-type {\n",
       "        vertical-align: middle;\n",
       "    }\n",
       "\n",
       "    .dataframe tbody tr th {\n",
       "        vertical-align: top;\n",
       "    }\n",
       "\n",
       "    .dataframe thead th {\n",
       "        text-align: right;\n",
       "    }\n",
       "</style>\n",
       "<table border=\"1\" class=\"dataframe\">\n",
       "  <thead>\n",
       "    <tr style=\"text-align: right;\">\n",
       "      <th></th>\n",
       "      <th>wiki_full</th>\n",
       "      <th>subs</th>\n",
       "      <th>strict-model</th>\n",
       "    </tr>\n",
       "  </thead>\n",
       "  <tbody>\n",
       "    <tr>\n",
       "      <th>7_full_data__sum_freq_gramma__min_freq</th>\n",
       "      <td>8.823563</td>\n",
       "      <td>6.972857</td>\n",
       "      <td>7.723399</td>\n",
       "    </tr>\n",
       "    <tr>\n",
       "      <th>6_full_data__sum_freq_gramma__max_freq</th>\n",
       "      <td>8.767971</td>\n",
       "      <td>7.157136</td>\n",
       "      <td>7.823065</td>\n",
       "    </tr>\n",
       "    <tr>\n",
       "      <th>5_full_data__freq_group__without_mask</th>\n",
       "      <td>8.553845</td>\n",
       "      <td>6.703813</td>\n",
       "      <td>7.425178</td>\n",
       "    </tr>\n",
       "    <tr>\n",
       "      <th>2_files_data__sum_freq_gramma__without_mask</th>\n",
       "      <td>8.561524</td>\n",
       "      <td>6.707302</td>\n",
       "      <td>7.435490</td>\n",
       "    </tr>\n",
       "    <tr>\n",
       "      <th>3_full_data__sum_freq_gramma__without_mask</th>\n",
       "      <td>8.542048</td>\n",
       "      <td>6.705210</td>\n",
       "      <td>7.421519</td>\n",
       "    </tr>\n",
       "    <tr>\n",
       "      <th>4_full_data__gramma_group__without_mask</th>\n",
       "      <td>8.536770</td>\n",
       "      <td>6.702776</td>\n",
       "      <td>7.416385</td>\n",
       "    </tr>\n",
       "    <tr>\n",
       "      <th>1_full_data__without_ord__without_mask</th>\n",
       "      <td>8.493325</td>\n",
       "      <td>6.672991</td>\n",
       "      <td>7.404138</td>\n",
       "    </tr>\n",
       "  </tbody>\n",
       "</table>\n",
       "</div>"
      ],
      "text/plain": [
       "                                             wiki_full      subs  strict-model\n",
       "7_full_data__sum_freq_gramma__min_freq        8.823563  6.972857      7.723399\n",
       "6_full_data__sum_freq_gramma__max_freq        8.767971  7.157136      7.823065\n",
       "5_full_data__freq_group__without_mask         8.553845  6.703813      7.425178\n",
       "2_files_data__sum_freq_gramma__without_mask   8.561524  6.707302      7.435490\n",
       "3_full_data__sum_freq_gramma__without_mask    8.542048  6.705210      7.421519\n",
       "4_full_data__gramma_group__without_mask       8.536770  6.702776      7.416385\n",
       "1_full_data__without_ord__without_mask        8.493325  6.672991      7.404138"
      ]
     },
     "execution_count": 9,
     "metadata": {},
     "output_type": "execute_result"
    }
   ],
   "source": [
    "df"
   ]
  }
 ],
 "metadata": {
  "kernelspec": {
   "display_name": "Python 3",
   "language": "python",
   "name": "python3"
  },
  "language_info": {
   "codemirror_mode": {
    "name": "ipython",
    "version": 3
   },
   "file_extension": ".py",
   "mimetype": "text/x-python",
   "name": "python",
   "nbconvert_exporter": "python",
   "pygments_lexer": "ipython3",
   "version": "3.8.10"
  }
 },
 "nbformat": 4,
 "nbformat_minor": 5
}
